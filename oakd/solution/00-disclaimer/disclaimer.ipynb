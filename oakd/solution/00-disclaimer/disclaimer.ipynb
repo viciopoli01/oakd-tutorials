{
 "cells": [
  {
   "cell_type": "markdown",
   "metadata": {},
   "source": [
    "<p style=\"text-align: right\">\n",
    "  <img src=\"../images/dtlogo.png\" alt=\"Logo\" width=\"200\">\n",
    "</p>"
   ]
  },
  {
   "cell_type": "markdown",
   "metadata": {},
   "source": [
    "# 00 - Disclaimer"
   ]
  },
  {
   "cell_type": "markdown",
   "metadata": {},
   "source": [
    "The aim of this project is to put together two of the most powerful open sorce platforms for education and research: OpenCV and Duckietown.\n",
    "\n",
    "In these exercises, you will learn how to integrate the [OAK-D device](https://store.opencv.ai/products/oak-d) from OpenCV's AI Kit with your Duckiebot, replacing the Duckiebot's Raspberry Pi camera with the camera system of OAK-D. Using the OAK-D, you are able to offload many computational tasks from your Duckiebot to this powerful embedded device such as stereo vision, machine learning inference, and image processing/manipulation. Get ready, because these features will bring your robotic system to the next level!"
   ]
  },
  {
   "cell_type": "code",
   "execution_count": null,
   "metadata": {},
   "outputs": [],
   "source": []
  }
 ],
 "metadata": {
  "kernelspec": {
   "display_name": "Python 3",
   "language": "python",
   "name": "python3"
  },
  "language_info": {
   "codemirror_mode": {
    "name": "ipython",
    "version": 3
   },
   "file_extension": ".py",
   "mimetype": "text/x-python",
   "name": "python",
   "nbconvert_exporter": "python",
   "pygments_lexer": "ipython3",
   "version": "3.8.10"
  }
 },
 "nbformat": 4,
 "nbformat_minor": 4
}
