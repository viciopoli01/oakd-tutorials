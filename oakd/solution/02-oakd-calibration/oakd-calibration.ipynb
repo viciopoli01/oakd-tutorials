{
 "cells": [
  {
   "cell_type": "markdown",
   "metadata": {},
   "source": [
    "<p style=\"text-align: right\">\n",
    "  <!--<img src=\"../images/dtlogo.png\" alt=\"Logo\" width=\"200\">-->\n",
    "</p>"
   ]
  },
  {
   "cell_type": "markdown",
   "metadata": {},
   "source": [
    "# 💻 02 - Stereo Calibration\n",
    "## 1 : Intrinsics calibration"
   ]
  },
  {
   "cell_type": "markdown",
   "metadata": {},
   "source": [
    "We created a wrapper around the official [tutorial](https://docs.luxonis.com/en/latest/pages/calibration/) in the Luxonis Documentation. <br>\n",
    "To calibrate the camera you need to print the calibration board:\n",
    "<figure>\n",
    "  <div style=\"text-align:center;\">\n",
    "  <img src=\"../images/calib_board.png\">\n",
    "  </div>\n",
    "</figure>\n"
   ]
  },
  {
   "cell_type": "markdown",
   "metadata": {},
   "source": [
    "To calibrate the device you can plug it to the computer and run: <br><br>\n",
    "`dts oakd calibrate`<br><br>\n",
    "The Luxonis calibration tool will start, please follow the instruction and procede to the calibration."
   ]
  },
  {
   "cell_type": "markdown",
   "metadata": {},
   "source": [
    "## 2 : Extrinsics calibration"
   ]
  },
  {
   "cell_type": "markdown",
   "metadata": {},
   "source": [
    "Now that we have the intrisic parameters, we can procede to compute the extrinsics paramters. Namely, the transformation from the road to the camera frame.<br>\n",
    "You can follo the same steps described in the Duckietown camera calibration [tutorial](https://docs.duckietown.org/daffy/opmanual_duckiebot/out/camera_calib.html) in the section 11.3.<br>\n"
   ]
  },
  {
   "cell_type": "markdown",
   "metadata": {},
   "source": [
    "⚠️ ***WARNING:***\n",
    "- MAKE SURE YOU ARE RUNNING THE BASIC ACTIVITY FIRST\n",
    "- MAKE SURE THE CAMERA IS STREAMING THE IMAGES UNDER THE TOPIC `/DB_NAME/camera_node/image/compressed`"
   ]
  },
  {
   "cell_type": "markdown",
   "metadata": {},
   "source": [
    "### 💡 Next steps\n",
    "\n",
    "Go back in the basic tutorial, after the calibration how is the disparoty map changed?\n",
    "You can now proceed to the next activity: [Semantic Segmentation](../03-semantic-segmentation/semantic_segmentation.ipynb)."
   ]
  }
 ],
 "metadata": {
  "kernelspec": {
   "display_name": "Python 3 (ipykernel)",
   "language": "python",
   "name": "python3"
  },
  "language_info": {
   "codemirror_mode": {
    "name": "ipython",
    "version": 3
   },
   "file_extension": ".py",
   "mimetype": "text/x-python",
   "name": "python",
   "nbconvert_exporter": "python",
   "pygments_lexer": "ipython3",
   "version": "3.8.10"
  }
 },
 "nbformat": 4,
 "nbformat_minor": 4
}
