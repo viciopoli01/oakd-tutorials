{
 "cells": [
  {
   "cell_type": "markdown",
   "metadata": {},
   "source": [
    "<p style=\"text-align: right\">\n",
    "  <img src=\"../images/dtlogo.png\" alt=\"Logo\" width=\"200\">\n",
    "</p>"
   ]
  },
  {
   "cell_type": "markdown",
   "metadata": {},
   "source": [
    "# 🚙 💻 05 - Wheel encoder based odometry (SOLUTIONS)"
   ]
  },
  {
   "cell_type": "markdown",
   "metadata": {},
   "source": [
    "# 🚙 💻 Let's get started!\n",
    "\n",
    "In this activity you will write a function that produces an estimate of the pose of the Duckiebot, given mesurements from the wheel encoders and an initial position:"
   ]
  },
  {
   "cell_type": "code",
   "execution_count": 4,
   "metadata": {},
   "outputs": [],
   "source": [
    "x0 = y0 = 0 # meters\n",
    "theta0 = 0 # radians"
   ]
  },
  {
   "cell_type": "code",
   "execution_count": 5,
   "metadata": {},
   "outputs": [
    {
     "name": "stdout",
     "output_type": "stream",
     "text": [
      "The angular resolution of our encoders is: 2.6666666666666665 degrees\n"
     ]
    }
   ],
   "source": [
    "import numpy as np \n",
    " \n",
    "N_tot = 135 # total number of ticks per revolution\n",
    "alpha = 2 * np.pi / N_tot # wheel rotation per tick in radians\n",
    "\n",
    "print(f\"The angular resolution of our encoders is: {np.rad2deg(alpha)} degrees\")"
   ]
  },
  {
   "cell_type": "code",
   "execution_count": 6,
   "metadata": {},
   "outputs": [],
   "source": [
    "# Feel free to play with the numbers to get an idea of the expected outcome\n",
    "\n",
    "ticks_left = 1\n",
    "prev_tick_left = 0\n",
    "\n",
    "ticks_right = 0\n",
    "prev_tick_right = 0"
   ]
  },
  {
   "cell_type": "code",
   "execution_count": 7,
   "metadata": {},
   "outputs": [
    {
     "name": "stdout",
     "output_type": "stream",
     "text": [
      "The left wheel rotated: 2.6666666666666665 degrees\n",
      "The right wheel rotated: 0.0 degrees\n"
     ]
    }
   ],
   "source": [
    "# How much would the wheels rotate with the above tick measurements? \n",
    "\n",
    "delta_ticks_left = ticks_left-prev_tick_left # delta ticks of left wheel \n",
    "delta_ticks_right = ticks_right-prev_tick_right # delta ticks of right wheel \n",
    "\n",
    "rotation_wheel_left = alpha * delta_ticks_left # total rotation of left wheel \n",
    "rotation_wheel_right = alpha * delta_ticks_right # total rotation of right wheel \n",
    "\n",
    "print(f\"The left wheel rotated: {np.rad2deg(rotation_wheel_left)} degrees\")\n",
    "print(f\"The right wheel rotated: {np.rad2deg(rotation_wheel_right)} degrees\")"
   ]
  },
  {
   "cell_type": "code",
   "execution_count": 8,
   "metadata": {},
   "outputs": [],
   "source": [
    "# What is the radius of your wheels? \n",
    "R = 0.0318 # insert value measured by ruler, in *meters*"
   ]
  },
  {
   "cell_type": "code",
   "execution_count": 9,
   "metadata": {},
   "outputs": [
    {
     "name": "stdout",
     "output_type": "stream",
     "text": [
      "The left wheel travelled: 0.0014800392056911916 meters\n",
      "The right wheel rotated: 0.0 meters\n"
     ]
    }
   ],
   "source": [
    "# What is the distance travelled by each wheel?\n",
    "\n",
    "d_left = R * rotation_wheel_left \n",
    "d_right = R * rotation_wheel_right\n",
    "\n",
    "print(f\"The left wheel travelled: {d_left} meters\")\n",
    "print(f\"The right wheel rotated: {d_right} meters\")"
   ]
  },
  {
   "cell_type": "code",
   "execution_count": 10,
   "metadata": {},
   "outputs": [
    {
     "name": "stdout",
     "output_type": "stream",
     "text": [
      "The robot has travelled: 0.0007400196028455958 meters\n"
     ]
    }
   ],
   "source": [
    "# How much has the robot travelled? \n",
    "\n",
    "d_A = (d_left + d_right)/2\n",
    "\n",
    "print(f\"The robot has travelled: {d_A} meters\")"
   ]
  },
  {
   "cell_type": "code",
   "execution_count": 11,
   "metadata": {},
   "outputs": [],
   "source": [
    "# What is the baseline length of your robot? \n",
    "\n",
    "baseline_wheel2wheel = 0.1 #  Distance between the center of the two wheels, expressed in meters "
   ]
  },
  {
   "cell_type": "code",
   "execution_count": 14,
   "metadata": {},
   "outputs": [
    {
     "name": "stdout",
     "output_type": "stream",
     "text": [
      "The robot has rotated: -0.8480000000000001 degrees\n"
     ]
    }
   ],
   "source": [
    "# How much has the robot rotated? \n",
    "\n",
    "Delta_Theta = (d_right-d_left)/baseline_wheel2wheel # expressed in radians\n",
    "\n",
    "print(f\"The robot has rotated: {np.rad2deg(Delta_Theta)} degrees\")"
   ]
  },
  {
   "cell_type": "markdown",
   "metadata": {},
   "source": [
    "## Calculating the rotation of each wheel"
   ]
  },
  {
   "cell_type": "code",
   "execution_count": 8,
   "metadata": {
    "tags": [
     "export"
    ]
   },
   "outputs": [],
   "source": [
    "# The function written in this cell will actually be ran on your robot (sim or real) and used for the next activities, as well as the homework exercise! \n",
    "# Put together the steps above and write your DeltaPhi function! \n",
    "\n",
    "# DO NOT CHANGE THE NAME OF THIS FUNCTION (nor the inputs and outputs) OR THINGS WILL BREAK\n",
    "\n",
    "def DeltaPhi(encoder_msg, prev_ticks):\n",
    "    \"\"\"\n",
    "        Args:\n",
    "            encoder_msg: ROS encoder message (ENUM)\n",
    "            prev_ticks: Previous tick count from the encoders (int)\n",
    "        Return:\n",
    "            rotation_wheel: Rotation of the wheel in radians (double)\n",
    "            ticks: current number of ticks (int)\n",
    "    \"\"\"\n",
    "    \n",
    "    # Read the number of ticks\n",
    "    \n",
    "    ticks = encoder_msg.data\n",
    "\n",
    "    # Evaluate the number of ticks since the last call \n",
    "    \n",
    "    delta_ticks = ticks-prev_ticks    \n",
    "\n",
    "    # Evaluate the wheel rotation\n",
    "\n",
    "    N_tot = encoder_msg.resolution #total number of ticks per wheel revolution\n",
    "\n",
    "    alpha = 2*np.pi/N_tot # rotation per tick in radians \n",
    "\n",
    "    delta_phi = alpha*delta_ticks # in radians\n",
    "    \n",
    "    #     DEBUGGING\n",
    "    #     print(f\"        DELTA TICKS  {encoder_msg.header.frame_id}\")\n",
    "    #     print(delta_ticks)\n",
    "\n",
    "    return delta_phi, ticks"
   ]
  },
  {
   "cell_type": "markdown",
   "metadata": {},
   "source": [
    "## Estimating the odometry"
   ]
  },
  {
   "cell_type": "code",
   "execution_count": 15,
   "metadata": {
    "tags": [
     "export"
    ]
   },
   "outputs": [],
   "source": [
    "# The function written in this cell will actually be ran on your robot (sim or real). \n",
    "# Put together the steps above and write your odometry function! \n",
    "\n",
    "import numpy as np \n",
    "\n",
    "# DO NOT CHANGE THE NAME OF THIS FUNCTION OR THINGS WILL BREAK\n",
    "\n",
    "def poseEstimation( R, # radius of wheel (assumed identical) - this is fixed in simulation, and will be imported from your saved calibration for the physical robot\n",
    "                    baseline_wheel2wheel, # distance from wheel to wheel; 2L of the theory\n",
    "                    x_prev, # previous x estimate - assume given\n",
    "                    y_prev, # previous y estimate - assume given\n",
    "                    theta_prev, # previous orientation estimate - assume given\n",
    "                    delta_phi_left, # left wheel rotation (rad)\n",
    "                    delta_phi_right): # right wheel rotation (rad)\n",
    "    \n",
    "    \"\"\"\n",
    "        Calculate the current Duckiebot pose using dead reckoning approach.\n",
    "\n",
    "        Returns x,y,theta current estimates:\n",
    "            x_curr, y_curr, theta_curr (:double: values)\n",
    "    \"\"\"\n",
    "    \n",
    "    # Define wheel radii [m]\n",
    "    \n",
    "    # r = 0 # make different than zero if you have reason to believe the wheels are of different sizes.\n",
    "    R_left = R # * (1-r)\n",
    "    R_right = R # * (1+r)\n",
    "    \n",
    "    # Define distance travelled by each wheel [m]\n",
    "    \n",
    "    d_left = R_left * delta_phi_left \n",
    "    d_right = R_right * delta_phi_right\n",
    "    \n",
    "    # Define distance travelled by the robot, in body frame [m]\n",
    "    \n",
    "    d_A = (d_left + d_right)/2\n",
    "    \n",
    "    # Define rotation of the robot [rad]\n",
    "    \n",
    "    Dtheta = (d_right - d_left)/baseline_wheel2wheel\n",
    "    \n",
    "    # Define distance travelled by the robot, in world frame [m]\n",
    "    \n",
    "    Dx = d_A * np.cos(theta_prev)\n",
    "    Dy = d_A * np.sin(theta_prev)\n",
    "    \n",
    "    # Update pose estimate\n",
    "    \n",
    "    x_curr = x_prev + Dx\n",
    "    y_curr = y_prev + Dy\n",
    "    theta_curr = theta_prev + Dtheta\n",
    "\n",
    "    return x_curr, y_curr, theta_curr"
   ]
  },
  {
   "cell_type": "code",
   "execution_count": 20,
   "metadata": {},
   "outputs": [
    {
     "data": {
      "image/png": "[encoded data removed]",
      "text/plain": [
       "<Figure size 432x288 with 1 Axes>"
      ]
     },
     "metadata": {
      "needs_background": "light"
     },
     "output_type": "display_data"
    },
    {
     "data": {
      "text/plain": [
       "<unit_test.UnitTestOdometry at 0x7fe91b7344c0>"
      ]
     },
     "execution_count": 20,
     "metadata": {},
     "output_type": "execute_result"
    }
   ],
   "source": [
    "import os, sys\n",
    "sys.path.append('../')\n",
    "from unit_test import UnitTestOdometry\n",
    "\n",
    "# This function has hardcoded values (bad practice!) to test the poseEstimate function above. \n",
    "# The test will be successful if you get a circle. Anything short of a circle.. probably best to go back and check. \n",
    "\n",
    "R = 0.0318 # for the sake of this unit test, keep these values, regardless of what you have measured.\n",
    "baseline_wheel2wheel = 0.1\n",
    "\n",
    "UnitTestOdometry(R, baseline_wheel2wheel, poseEstimation)\n"
   ]
  }
 ],
 "metadata": {
  "kernelspec": {
   "display_name": "Python 3",
   "language": "python",
   "name": "python3"
  },
  "language_info": {
   "codemirror_mode": {
    "name": "ipython",
    "version": 3
   },
   "file_extension": ".py",
   "mimetype": "text/x-python",
   "name": "python",
   "nbconvert_exporter": "python",
   "pygments_lexer": "ipython3",
   "version": "3.8.5"
  }
 },
 "nbformat": 4,
 "nbformat_minor": 4
}
